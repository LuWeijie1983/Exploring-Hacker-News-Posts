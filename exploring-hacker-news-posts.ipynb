{
 "cells": [
  {
   "cell_type": "markdown",
   "id": "0f1b8211",
   "metadata": {
    "_cell_guid": "b1076dfc-b9ad-4769-8c92-a6c4dae69d19",
    "_uuid": "8f2839f25d086af736a60e9eeb907d3b93b6e0e5",
    "papermill": {
     "duration": 0.007118,
     "end_time": "2024-01-04T03:08:43.101919",
     "exception": false,
     "start_time": "2024-01-04T03:08:43.094801",
     "status": "completed"
    },
    "tags": []
   },
   "source": [
    "# Exploring Hacker News Posts"
   ]
  },
  {
   "cell_type": "markdown",
   "id": "916ccc98",
   "metadata": {
    "papermill": {
     "duration": 0.006615,
     "end_time": "2024-01-04T03:08:43.115858",
     "exception": false,
     "start_time": "2024-01-04T03:08:43.109243",
     "status": "completed"
    },
    "tags": []
   },
   "source": [
    "A [downsampled dataset](https://www.kaggle.com/datasets/hacker-news/hacker-news-posts) from `Hacker News` will be used in this project. `Hacker News` is extremely popular website in technology and startup cicrles, and posts that make it to the top of the listings can get hundreds of thousands of visitors.\n",
    "\n",
    "Primarily, we're specifically interested in posts with title that begin with etiher `Ask HN` or `Show HN`. Users submit `Ask HN` posts to ask `Hacker News` community a specific question while users submit `Show HN` posts to show `Hacker News` community a project, product, or just something interesting."
   ]
  },
  {
   "cell_type": "markdown",
   "id": "1671158d",
   "metadata": {
    "papermill": {
     "duration": 0.007687,
     "end_time": "2024-01-04T03:08:43.131867",
     "exception": false,
     "start_time": "2024-01-04T03:08:43.124180",
     "status": "completed"
    },
    "tags": []
   },
   "source": [
    "## Description of data column"
   ]
  },
  {
   "cell_type": "markdown",
   "id": "e472ceb0",
   "metadata": {
    "papermill": {
     "duration": 0.007159,
     "end_time": "2024-01-04T03:08:43.146037",
     "exception": false,
     "start_time": "2024-01-04T03:08:43.138878",
     "status": "completed"
    },
    "tags": []
   },
   "source": [
    "| Column      | Description|\n",
    "|:-------------|:------------|\n",
    "|id           |the unique identifier from Hacker News for the post|\n",
    "|title        |the title of the post\n",
    "|url          |the URL that the posts link to\n",
    "|num_points   |the number of points the post acquired, calculated as the total number of upvotes minus the total number of downvotes|\n",
    "|num_comments |the number of comments on the post\n",
    "|author       |the name of the account that made the post\n",
    "|created_at   |the date and time the post was made (the time zone is Eastern Time in the US)"
   ]
  },
  {
   "cell_type": "markdown",
   "id": "96fd3f74",
   "metadata": {
    "papermill": {
     "duration": 0.006687,
     "end_time": "2024-01-04T03:08:43.159570",
     "exception": false,
     "start_time": "2024-01-04T03:08:43.152883",
     "status": "completed"
    },
    "tags": []
   },
   "source": [
    "## Project Objective"
   ]
  },
  {
   "cell_type": "markdown",
   "id": "e135846e",
   "metadata": {
    "papermill": {
     "duration": 0.006637,
     "end_time": "2024-01-04T03:08:43.173066",
     "exception": false,
     "start_time": "2024-01-04T03:08:43.166429",
     "status": "completed"
    },
    "tags": []
   },
   "source": [
    "This project will compare the 2 types of posts `Ask HN` and `Show HN` to determine:\n",
    "\n",
    "- Do `Ask HN` or `Show HN` receive more comments on average?\n",
    "- Do posts created at a certain time receive more comments on average?"
   ]
  },
  {
   "cell_type": "markdown",
   "id": "3499f92c",
   "metadata": {
    "papermill": {
     "duration": 0.007099,
     "end_time": "2024-01-04T03:08:43.187767",
     "exception": false,
     "start_time": "2024-01-04T03:08:43.180668",
     "status": "completed"
    },
    "tags": []
   },
   "source": [
    "## Read in the csv file as a list of lists"
   ]
  },
  {
   "cell_type": "code",
   "execution_count": 1,
   "id": "66de9acd",
   "metadata": {
    "execution": {
     "iopub.execute_input": "2024-01-04T03:08:43.203300Z",
     "iopub.status.busy": "2024-01-04T03:08:43.202897Z",
     "iopub.status.idle": "2024-01-04T03:08:44.741110Z",
     "shell.execute_reply": "2024-01-04T03:08:44.739812Z"
    },
    "papermill": {
     "duration": 1.548821,
     "end_time": "2024-01-04T03:08:44.743453",
     "exception": false,
     "start_time": "2024-01-04T03:08:43.194632",
     "status": "completed"
    },
    "tags": []
   },
   "outputs": [
    {
     "name": "stdout",
     "output_type": "stream",
     "text": [
      "[['id', 'title', 'url', 'num_points', 'num_comments', 'author', 'created_at'], ['12579008', 'You have two days to comment if you want stem cells to be classified as your own', 'http://www.regulations.gov/document?D=FDA-2015-D-3719-0018', '1', '0', 'altstar', '9/26/2016 3:26'], ['12579005', 'SQLAR  the SQLite Archiver', 'https://www.sqlite.org/sqlar/doc/trunk/README.md', '1', '0', 'blacksqr', '9/26/2016 3:24'], ['12578997', 'What if we just printed a flatscreen television on the side of our boxes?', 'https://medium.com/vanmoof/our-secrets-out-f21c1f03fdc8#.ietxmez43', '1', '0', 'pavel_lishin', '9/26/2016 3:19'], ['12578989', 'algorithmic music', 'http://cacm.acm.org/magazines/2011/7/109891-algorithmic-composition/fulltext', '1', '0', 'poindontcare', '9/26/2016 3:16']]\n"
     ]
    }
   ],
   "source": [
    "from csv import reader\n",
    "opened_file = open('/kaggle/input/hacker-news-posts/HN_posts_year_to_Sep_26_2016.csv')\n",
    "read_file = reader(opened_file)\n",
    "hn = list(read_file)\n",
    "print(hn[:5])"
   ]
  },
  {
   "cell_type": "markdown",
   "id": "a324644a",
   "metadata": {
    "papermill": {
     "duration": 0.007386,
     "end_time": "2024-01-04T03:08:44.757785",
     "exception": false,
     "start_time": "2024-01-04T03:08:44.750399",
     "status": "completed"
    },
    "tags": []
   },
   "source": [
    "### 1. Extract the first row of data as headers"
   ]
  },
  {
   "cell_type": "code",
   "execution_count": 2,
   "id": "e944edc6",
   "metadata": {
    "execution": {
     "iopub.execute_input": "2024-01-04T03:08:44.773278Z",
     "iopub.status.busy": "2024-01-04T03:08:44.772853Z",
     "iopub.status.idle": "2024-01-04T03:08:44.778730Z",
     "shell.execute_reply": "2024-01-04T03:08:44.777527Z"
    },
    "papermill": {
     "duration": 0.016803,
     "end_time": "2024-01-04T03:08:44.781555",
     "exception": false,
     "start_time": "2024-01-04T03:08:44.764752",
     "status": "completed"
    },
    "tags": []
   },
   "outputs": [
    {
     "name": "stdout",
     "output_type": "stream",
     "text": [
      "headers:\n",
      "['id', 'title', 'url', 'num_points', 'num_comments', 'author', 'created_at']\n"
     ]
    }
   ],
   "source": [
    "# Extract headers from data\n",
    "headers = hn[0]\n",
    "\n",
    "print('headers:')\n",
    "print(headers)"
   ]
  },
  {
   "cell_type": "markdown",
   "id": "c546a93d",
   "metadata": {
    "papermill": {
     "duration": 0.007117,
     "end_time": "2024-01-04T03:08:44.795906",
     "exception": false,
     "start_time": "2024-01-04T03:08:44.788789",
     "status": "completed"
    },
    "tags": []
   },
   "source": [
    "### 2. Remove headers"
   ]
  },
  {
   "cell_type": "code",
   "execution_count": 3,
   "id": "d595c97b",
   "metadata": {
    "execution": {
     "iopub.execute_input": "2024-01-04T03:08:44.812237Z",
     "iopub.status.busy": "2024-01-04T03:08:44.811801Z",
     "iopub.status.idle": "2024-01-04T03:08:44.828230Z",
     "shell.execute_reply": "2024-01-04T03:08:44.827073Z"
    },
    "papermill": {
     "duration": 0.027814,
     "end_time": "2024-01-04T03:08:44.830694",
     "exception": false,
     "start_time": "2024-01-04T03:08:44.802880",
     "status": "completed"
    },
    "tags": []
   },
   "outputs": [
    {
     "name": "stdout",
     "output_type": "stream",
     "text": [
      "First 5 row of hn data without headers:\n",
      "[['12579008', 'You have two days to comment if you want stem cells to be classified as your own', 'http://www.regulations.gov/document?D=FDA-2015-D-3719-0018', '1', '0', 'altstar', '9/26/2016 3:26'], ['12579005', 'SQLAR  the SQLite Archiver', 'https://www.sqlite.org/sqlar/doc/trunk/README.md', '1', '0', 'blacksqr', '9/26/2016 3:24'], ['12578997', 'What if we just printed a flatscreen television on the side of our boxes?', 'https://medium.com/vanmoof/our-secrets-out-f21c1f03fdc8#.ietxmez43', '1', '0', 'pavel_lishin', '9/26/2016 3:19'], ['12578989', 'algorithmic music', 'http://cacm.acm.org/magazines/2011/7/109891-algorithmic-composition/fulltext', '1', '0', 'poindontcare', '9/26/2016 3:16'], ['12578979', 'How the Data Vault Enables the Next-Gen Data Warehouse and Data Lake', 'https://www.talend.com/blog/2016/05/12/talend-and-Â\\x93the-data-vaultÂ\\x94', '1', '0', 'markgainor1', '9/26/2016 3:14']]\n"
     ]
    }
   ],
   "source": [
    "# Remove header first row from hn\n",
    "hn = hn[1:]\n",
    "\n",
    "print('First 5 row of hn data without headers:')\n",
    "print(hn[:5])"
   ]
  },
  {
   "cell_type": "markdown",
   "id": "32aba1e0",
   "metadata": {
    "papermill": {
     "duration": 0.006789,
     "end_time": "2024-01-04T03:08:44.844568",
     "exception": false,
     "start_time": "2024-01-04T03:08:44.837779",
     "status": "completed"
    },
    "tags": []
   },
   "source": [
    "## Find the posts with titles beginning with `Ask HN` or `Show HN`"
   ]
  },
  {
   "cell_type": "code",
   "execution_count": 4,
   "id": "cd184447",
   "metadata": {
    "execution": {
     "iopub.execute_input": "2024-01-04T03:08:44.861510Z",
     "iopub.status.busy": "2024-01-04T03:08:44.861103Z",
     "iopub.status.idle": "2024-01-04T03:08:44.866244Z",
     "shell.execute_reply": "2024-01-04T03:08:44.865341Z"
    },
    "papermill": {
     "duration": 0.01644,
     "end_time": "2024-01-04T03:08:44.868375",
     "exception": false,
     "start_time": "2024-01-04T03:08:44.851935",
     "status": "completed"
    },
    "tags": []
   },
   "outputs": [],
   "source": [
    "# Create 3 empty lists\n",
    "ask_posts = []\n",
    "show_posts = []\n",
    "other_posts = []"
   ]
  },
  {
   "cell_type": "code",
   "execution_count": 5,
   "id": "ea1c4623",
   "metadata": {
    "execution": {
     "iopub.execute_input": "2024-01-04T03:08:44.885892Z",
     "iopub.status.busy": "2024-01-04T03:08:44.884570Z",
     "iopub.status.idle": "2024-01-04T03:08:45.108831Z",
     "shell.execute_reply": "2024-01-04T03:08:45.107742Z"
    },
    "papermill": {
     "duration": 0.236,
     "end_time": "2024-01-04T03:08:45.111452",
     "exception": false,
     "start_time": "2024-01-04T03:08:44.875452",
     "status": "completed"
    },
    "tags": []
   },
   "outputs": [],
   "source": [
    "# Seperate the posts\n",
    "for row in hn:\n",
    "    title = row[1]\n",
    "    if title.lower().startswith('ask hn'):\n",
    "        ask_posts.append(row)\n",
    "    elif title.lower().startswith('show hn'):\n",
    "        show_posts.append(row)\n",
    "    else:\n",
    "        other_posts.append(row)"
   ]
  },
  {
   "cell_type": "code",
   "execution_count": 6,
   "id": "f71f4a0b",
   "metadata": {
    "execution": {
     "iopub.execute_input": "2024-01-04T03:08:45.128992Z",
     "iopub.status.busy": "2024-01-04T03:08:45.128239Z",
     "iopub.status.idle": "2024-01-04T03:08:45.135480Z",
     "shell.execute_reply": "2024-01-04T03:08:45.133825Z"
    },
    "papermill": {
     "duration": 0.018846,
     "end_time": "2024-01-04T03:08:45.138144",
     "exception": false,
     "start_time": "2024-01-04T03:08:45.119298",
     "status": "completed"
    },
    "tags": []
   },
   "outputs": [
    {
     "name": "stdout",
     "output_type": "stream",
     "text": [
      "Number of \"Ask HN\" posts: 9139\n",
      "\n",
      "Number of \"Show HN\" posts: 10158\n",
      "\n",
      "Number of other posts: 273822\n"
     ]
    }
   ],
   "source": [
    "# Count the number of posts in each list\n",
    "length_ask_posts = len(ask_posts)\n",
    "print(f'Number of \"Ask HN\" posts: {length_ask_posts}')\n",
    "\n",
    "print()\n",
    "\n",
    "length_show_posts = len(show_posts)\n",
    "print(f'Number of \"Show HN\" posts: {length_show_posts}')\n",
    "\n",
    "print()\n",
    "\n",
    "length_other_posts = len(other_posts)\n",
    "print(f'Number of other posts: {length_other_posts}')"
   ]
  },
  {
   "cell_type": "markdown",
   "id": "7996d945",
   "metadata": {
    "papermill": {
     "duration": 0.006969,
     "end_time": "2024-01-04T03:08:45.152497",
     "exception": false,
     "start_time": "2024-01-04T03:08:45.145528",
     "status": "completed"
    },
    "tags": []
   },
   "source": [
    "## Display the first 5 rows of data beginning with `Ask HN` and `Show HN`"
   ]
  },
  {
   "cell_type": "code",
   "execution_count": 7,
   "id": "a426f307",
   "metadata": {
    "execution": {
     "iopub.execute_input": "2024-01-04T03:08:45.169172Z",
     "iopub.status.busy": "2024-01-04T03:08:45.168796Z",
     "iopub.status.idle": "2024-01-04T03:08:45.174069Z",
     "shell.execute_reply": "2024-01-04T03:08:45.172831Z"
    },
    "papermill": {
     "duration": 0.016951,
     "end_time": "2024-01-04T03:08:45.177082",
     "exception": false,
     "start_time": "2024-01-04T03:08:45.160131",
     "status": "completed"
    },
    "tags": []
   },
   "outputs": [
    {
     "name": "stdout",
     "output_type": "stream",
     "text": [
      "First 5 rows from ask_posts:\n",
      "[['12578908', 'Ask HN: What TLD do you use for local development?', '', '4', '7', 'Sevrene', '9/26/2016 2:53'], ['12578522', 'Ask HN: How do you pass on your work when you die?', '', '6', '3', 'PascLeRasc', '9/26/2016 1:17'], ['12577908', 'Ask HN: How a DNS problem can be limited to a geographic region?', '', '1', '0', 'kuon', '9/25/2016 22:57'], ['12577870', 'Ask HN: Why join a fund when you can be an angel?', '', '1', '3', 'anthony_james', '9/25/2016 22:48'], ['12577647', 'Ask HN: Someone uses stock trading as passive income?', '', '5', '2', '00taffe', '9/25/2016 21:50']]\n"
     ]
    }
   ],
   "source": [
    "# Display first 5 rows of data for 'ask_posts' list\n",
    "print('First 5 rows from ask_posts:')\n",
    "print(ask_posts[:5])"
   ]
  },
  {
   "cell_type": "code",
   "execution_count": 8,
   "id": "e5058350",
   "metadata": {
    "execution": {
     "iopub.execute_input": "2024-01-04T03:08:45.193764Z",
     "iopub.status.busy": "2024-01-04T03:08:45.193351Z",
     "iopub.status.idle": "2024-01-04T03:08:45.198823Z",
     "shell.execute_reply": "2024-01-04T03:08:45.197487Z"
    },
    "papermill": {
     "duration": 0.017574,
     "end_time": "2024-01-04T03:08:45.202269",
     "exception": false,
     "start_time": "2024-01-04T03:08:45.184695",
     "status": "completed"
    },
    "tags": []
   },
   "outputs": [
    {
     "name": "stdout",
     "output_type": "stream",
     "text": [
      "First 5 rows from show_posts:\n",
      "[['12578335', 'Show HN: Finding puns computationally', 'http://puns.samueltaylor.org/', '2', '0', 'saamm', '9/26/2016 0:36'], ['12578182', 'Show HN: A simple library for complicated animations', 'https://christinecha.github.io/choreographer-js/', '1', '0', 'christinecha', '9/26/2016 0:01'], ['12578098', 'Show HN: WebGL visualization of DNA sequences', 'http://grondilu.github.io/dna.html', '1', '0', 'grondilu', '9/25/2016 23:44'], ['12577991', 'Show HN: Pomodoro-centric, heirarchical project management with ES6 modules', 'https://github.com/jakebian/zeal', '2', '0', 'dbranes', '9/25/2016 23:17'], ['12577142', 'Show HN: Jumble  Essays on the go #PaulInYourPocket', 'https://itunes.apple.com/us/app/jumble-find-startup-essay/id1150939197?ls=1&mt=8', '1', '1', 'ryderj', '9/25/2016 20:06']]\n"
     ]
    }
   ],
   "source": [
    "# Display first 5 rows of data for 'show_posts' list\n",
    "print('First 5 rows from show_posts:')\n",
    "print(show_posts[:5])"
   ]
  },
  {
   "cell_type": "markdown",
   "id": "8407e145",
   "metadata": {
    "papermill": {
     "duration": 0.006945,
     "end_time": "2024-01-04T03:08:45.216633",
     "exception": false,
     "start_time": "2024-01-04T03:08:45.209688",
     "status": "completed"
    },
    "tags": []
   },
   "source": [
    "## Calculate the average number of comments for `Ask HN` and `Show HN` posts"
   ]
  },
  {
   "cell_type": "code",
   "execution_count": 9,
   "id": "258c2962",
   "metadata": {
    "execution": {
     "iopub.execute_input": "2024-01-04T03:08:45.232918Z",
     "iopub.status.busy": "2024-01-04T03:08:45.232555Z",
     "iopub.status.idle": "2024-01-04T03:08:45.244304Z",
     "shell.execute_reply": "2024-01-04T03:08:45.243037Z"
    },
    "papermill": {
     "duration": 0.022782,
     "end_time": "2024-01-04T03:08:45.246598",
     "exception": false,
     "start_time": "2024-01-04T03:08:45.223816",
     "status": "completed"
    },
    "tags": []
   },
   "outputs": [
    {
     "name": "stdout",
     "output_type": "stream",
     "text": [
      "The average number of comments on ask posts is 10\n"
     ]
    }
   ],
   "source": [
    "# Find the total number of comments on ask posts\n",
    "\n",
    "total_ask_comments = 0\n",
    "for row in ask_posts:\n",
    "    num_of_ask_comments = int(row[4])\n",
    "    total_ask_comments += num_of_ask_comments\n",
    "\n",
    "# Find the average number of comments on ask posts\n",
    "avg_ask_comments = total_ask_comments // length_ask_posts\n",
    "\n",
    "print(f'The average number of comments on ask posts is {avg_ask_comments}')"
   ]
  },
  {
   "cell_type": "code",
   "execution_count": 10,
   "id": "9bd0b331",
   "metadata": {
    "execution": {
     "iopub.execute_input": "2024-01-04T03:08:45.263162Z",
     "iopub.status.busy": "2024-01-04T03:08:45.262784Z",
     "iopub.status.idle": "2024-01-04T03:08:45.275042Z",
     "shell.execute_reply": "2024-01-04T03:08:45.274056Z"
    },
    "papermill": {
     "duration": 0.02377,
     "end_time": "2024-01-04T03:08:45.277705",
     "exception": false,
     "start_time": "2024-01-04T03:08:45.253935",
     "status": "completed"
    },
    "tags": []
   },
   "outputs": [
    {
     "name": "stdout",
     "output_type": "stream",
     "text": [
      "The average number of comments on show posts is 4\n"
     ]
    }
   ],
   "source": [
    "# Find the total number of comments on show posts\n",
    "\n",
    "total_show_comments = 0\n",
    "for row in show_posts:\n",
    "    num_of_show_comments = int(row[4])\n",
    "    total_show_comments += num_of_show_comments\n",
    "\n",
    "# Find the average number of comments on show posts\n",
    "avg_show_comments = total_show_comments // length_show_posts\n",
    "\n",
    "print(f'The average number of comments on show posts is {avg_show_comments}')"
   ]
  },
  {
   "cell_type": "markdown",
   "id": "717c9b8e",
   "metadata": {
    "papermill": {
     "duration": 0.00785,
     "end_time": "2024-01-04T03:08:45.293812",
     "exception": false,
     "start_time": "2024-01-04T03:08:45.285962",
     "status": "completed"
    },
    "tags": []
   },
   "source": [
    "## Find the Number of `Ask HN` Posts and Comments by Hour Created"
   ]
  },
  {
   "cell_type": "markdown",
   "id": "5ba915b5",
   "metadata": {
    "papermill": {
     "duration": 0.007362,
     "end_time": "2024-01-04T03:08:45.308647",
     "exception": false,
     "start_time": "2024-01-04T03:08:45.301285",
     "status": "completed"
    },
    "tags": []
   },
   "source": [
    "We'll determine if ask posts created at a certain time are mor likely to attract comments. To perform this analysis:\n",
    "\n",
    "1. Calculate the number of ask posts created in each hour of the day, along with the number of comments received.\n",
    "\n",
    "2. Calculate the average number of comments ask posts receive by hour created"
   ]
  },
  {
   "cell_type": "code",
   "execution_count": 11,
   "id": "117782c1",
   "metadata": {
    "execution": {
     "iopub.execute_input": "2024-01-04T03:08:45.325339Z",
     "iopub.status.busy": "2024-01-04T03:08:45.324954Z",
     "iopub.status.idle": "2024-01-04T03:08:45.526662Z",
     "shell.execute_reply": "2024-01-04T03:08:45.525593Z"
    },
    "papermill": {
     "duration": 0.212894,
     "end_time": "2024-01-04T03:08:45.528985",
     "exception": false,
     "start_time": "2024-01-04T03:08:45.316091",
     "status": "completed"
    },
    "tags": []
   },
   "outputs": [
    {
     "data": {
      "text/plain": [
       "{'02': 2996,\n",
       " '01': 2089,\n",
       " '22': 3372,\n",
       " '21': 4500,\n",
       " '19': 3954,\n",
       " '17': 5547,\n",
       " '15': 18525,\n",
       " '14': 4972,\n",
       " '13': 7245,\n",
       " '11': 2797,\n",
       " '10': 3013,\n",
       " '09': 1477,\n",
       " '07': 1585,\n",
       " '03': 2154,\n",
       " '23': 2297,\n",
       " '20': 4462,\n",
       " '16': 4466,\n",
       " '08': 2362,\n",
       " '00': 2277,\n",
       " '18': 4877,\n",
       " '12': 4234,\n",
       " '04': 2360,\n",
       " '06': 1587,\n",
       " '05': 1838}"
      ]
     },
     "execution_count": 11,
     "metadata": {},
     "output_type": "execute_result"
    }
   ],
   "source": [
    "# Import the datetime module\n",
    "import datetime as dt\n",
    "\n",
    "# Create an empty list 'result_list'\n",
    "result_list = []\n",
    "\n",
    "# Iterate over 'ask_posts' list\n",
    "for post in ask_posts:\n",
    "    result_list.append([post[6], int(post[4])])\n",
    "\n",
    "# Create dictionaries 'counts_by_hour' and 'comments_by_hour'\n",
    "counts_by_hour = {}\n",
    "comments_by_hour = {}\n",
    "\n",
    "for item in result_list:\n",
    "    date = item[0]\n",
    "    comment = item[1]\n",
    "    date_format = '%m/%d/%Y %H:%M'\n",
    "    \n",
    "    # First is to parse string into datetime object using strptime, then extract the hour portion using strftime\n",
    "    time = dt.datetime.strptime(date, date_format).strftime('%H')\n",
    "    \n",
    "    if time in counts_by_hour:\n",
    "        comments_by_hour[time] += comment\n",
    "        counts_by_hour[time] += 1\n",
    "    else:\n",
    "        comments_by_hour[time] = comment\n",
    "        counts_by_hour[time] = 1\n",
    "\n",
    "comments_by_hour"
   ]
  },
  {
   "cell_type": "markdown",
   "id": "9864165f",
   "metadata": {
    "papermill": {
     "duration": 0.007259,
     "end_time": "2024-01-04T03:08:45.544170",
     "exception": false,
     "start_time": "2024-01-04T03:08:45.536911",
     "status": "completed"
    },
    "tags": []
   },
   "source": [
    "## Calculate the Average Number of Comments for `Ask HN` Posts by Hour"
   ]
  },
  {
   "cell_type": "markdown",
   "id": "537326bb",
   "metadata": {
    "papermill": {
     "duration": 0.007404,
     "end_time": "2024-01-04T03:08:45.559870",
     "exception": false,
     "start_time": "2024-01-04T03:08:45.552466",
     "status": "completed"
    },
    "tags": []
   },
   "source": [
    "Next, we use the two dictionaries `comments_by_hour` and `counts_by_hour` to calculate the average number of comments for posts created during each hour of the day"
   ]
  },
  {
   "cell_type": "code",
   "execution_count": 12,
   "id": "e8f750cf",
   "metadata": {
    "execution": {
     "iopub.execute_input": "2024-01-04T03:08:45.576770Z",
     "iopub.status.busy": "2024-01-04T03:08:45.576366Z",
     "iopub.status.idle": "2024-01-04T03:08:45.584707Z",
     "shell.execute_reply": "2024-01-04T03:08:45.583504Z"
    },
    "papermill": {
     "duration": 0.019615,
     "end_time": "2024-01-04T03:08:45.587113",
     "exception": false,
     "start_time": "2024-01-04T03:08:45.567498",
     "status": "completed"
    },
    "tags": []
   },
   "outputs": [
    {
     "data": {
      "text/plain": [
       "[['02', 11.137546468401487],\n",
       " ['01', 7.407801418439717],\n",
       " ['22', 8.804177545691905],\n",
       " ['21', 8.687258687258687],\n",
       " ['19', 7.163043478260869],\n",
       " ['17', 9.449744463373083],\n",
       " ['15', 28.676470588235293],\n",
       " ['14', 9.692007797270955],\n",
       " ['13', 16.31756756756757],\n",
       " ['11', 8.96474358974359],\n",
       " ['10', 10.684397163120567],\n",
       " ['09', 6.653153153153153],\n",
       " ['07', 7.013274336283186],\n",
       " ['03', 7.948339483394834],\n",
       " ['23', 6.696793002915452],\n",
       " ['20', 8.749019607843136],\n",
       " ['16', 7.713298791018998],\n",
       " ['08', 9.190661478599221],\n",
       " ['00', 7.5647840531561465],\n",
       " ['18', 7.94299674267101],\n",
       " ['12', 12.380116959064328],\n",
       " ['04', 9.7119341563786],\n",
       " ['06', 6.782051282051282],\n",
       " ['05', 8.794258373205741]]"
      ]
     },
     "execution_count": 12,
     "metadata": {},
     "output_type": "execute_result"
    }
   ],
   "source": [
    "avg_by_hour = []\n",
    "\n",
    "for hour in comments_by_hour:\n",
    "    avg_by_hour.append([hour, comments_by_hour[hour] / counts_by_hour[hour]])\n",
    "\n",
    "avg_by_hour"
   ]
  },
  {
   "cell_type": "markdown",
   "id": "ad7db463",
   "metadata": {
    "papermill": {
     "duration": 0.007412,
     "end_time": "2024-01-04T03:08:45.602291",
     "exception": false,
     "start_time": "2024-01-04T03:08:45.594879",
     "status": "completed"
    },
    "tags": []
   },
   "source": [
    "## Sorting and Printing Values"
   ]
  },
  {
   "cell_type": "markdown",
   "id": "a15de5ba",
   "metadata": {
    "papermill": {
     "duration": 0.007787,
     "end_time": "2024-01-04T03:08:45.617734",
     "exception": false,
     "start_time": "2024-01-04T03:08:45.609947",
     "status": "completed"
    },
    "tags": []
   },
   "source": [
    "Sort the obtained results in order to identify the hours with the highest number of comments"
   ]
  },
  {
   "cell_type": "code",
   "execution_count": 13,
   "id": "4306038b",
   "metadata": {
    "execution": {
     "iopub.execute_input": "2024-01-04T03:08:45.634254Z",
     "iopub.status.busy": "2024-01-04T03:08:45.633884Z",
     "iopub.status.idle": "2024-01-04T03:08:45.643992Z",
     "shell.execute_reply": "2024-01-04T03:08:45.642873Z"
    },
    "papermill": {
     "duration": 0.020989,
     "end_time": "2024-01-04T03:08:45.646311",
     "exception": false,
     "start_time": "2024-01-04T03:08:45.625322",
     "status": "completed"
    },
    "tags": []
   },
   "outputs": [
    {
     "name": "stdout",
     "output_type": "stream",
     "text": [
      "[[11.137546468401487, '02'], [7.407801418439717, '01'], [8.804177545691905, '22'], [8.687258687258687, '21'], [7.163043478260869, '19'], [9.449744463373083, '17'], [28.676470588235293, '15'], [9.692007797270955, '14'], [16.31756756756757, '13'], [8.96474358974359, '11'], [10.684397163120567, '10'], [6.653153153153153, '09'], [7.013274336283186, '07'], [7.948339483394834, '03'], [6.696793002915452, '23'], [8.749019607843136, '20'], [7.713298791018998, '16'], [9.190661478599221, '08'], [7.5647840531561465, '00'], [7.94299674267101, '18'], [12.380116959064328, '12'], [9.7119341563786, '04'], [6.782051282051282, '06'], [8.794258373205741, '05']]\n"
     ]
    },
    {
     "data": {
      "text/plain": [
       "[[28.676470588235293, '15'],\n",
       " [16.31756756756757, '13'],\n",
       " [12.380116959064328, '12'],\n",
       " [11.137546468401487, '02'],\n",
       " [10.684397163120567, '10'],\n",
       " [9.7119341563786, '04'],\n",
       " [9.692007797270955, '14'],\n",
       " [9.449744463373083, '17'],\n",
       " [9.190661478599221, '08'],\n",
       " [8.96474358974359, '11'],\n",
       " [8.804177545691905, '22'],\n",
       " [8.794258373205741, '05'],\n",
       " [8.749019607843136, '20'],\n",
       " [8.687258687258687, '21'],\n",
       " [7.948339483394834, '03'],\n",
       " [7.94299674267101, '18'],\n",
       " [7.713298791018998, '16'],\n",
       " [7.5647840531561465, '00'],\n",
       " [7.407801418439717, '01'],\n",
       " [7.163043478260869, '19'],\n",
       " [7.013274336283186, '07'],\n",
       " [6.782051282051282, '06'],\n",
       " [6.696793002915452, '23'],\n",
       " [6.653153153153153, '09']]"
      ]
     },
     "execution_count": 13,
     "metadata": {},
     "output_type": "execute_result"
    }
   ],
   "source": [
    "# Create empty list 'swap_avg_by_hour'\n",
    "swap_avg_by_hour = []\n",
    "\n",
    "for row in avg_by_hour:\n",
    "    swap_avg_by_hour.append([row[1], row[0]])\n",
    "\n",
    "print(swap_avg_by_hour)\n",
    "\n",
    "sorted_swap = sorted(swap_avg_by_hour, reverse=True)\n",
    "\n",
    "sorted_swap"
   ]
  },
  {
   "cell_type": "code",
   "execution_count": 14,
   "id": "ff3a7493",
   "metadata": {
    "execution": {
     "iopub.execute_input": "2024-01-04T03:08:45.725912Z",
     "iopub.status.busy": "2024-01-04T03:08:45.725488Z",
     "iopub.status.idle": "2024-01-04T03:08:45.732902Z",
     "shell.execute_reply": "2024-01-04T03:08:45.731572Z"
    },
    "papermill": {
     "duration": 0.019825,
     "end_time": "2024-01-04T03:08:45.735525",
     "exception": false,
     "start_time": "2024-01-04T03:08:45.715700",
     "status": "completed"
    },
    "tags": []
   },
   "outputs": [
    {
     "name": "stdout",
     "output_type": "stream",
     "text": [
      "Top 5 Hours for Ask Posts Comments\n",
      "15:00: 28.68 average comments per post\n",
      "13:00: 16.32 average comments per post\n",
      "12:00: 12.38 average comments per post\n",
      "02:00: 11.14 average comments per post\n",
      "10:00: 10.68 average comments per post\n"
     ]
    }
   ],
   "source": [
    "# Sort the values and print out the top 5 hours with highest average number of comments\n",
    "print('Top 5 Hours for Ask Posts Comments')\n",
    "for avg, hr in sorted_swap[:5]:\n",
    "    print(\n",
    "        '{hour}: {avg_comment:.2f} average comments per post'.format(\n",
    "            hour = dt.datetime.strptime(hr,'%H').strftime('%H:%M'), avg_comment = avg))"
   ]
  },
  {
   "cell_type": "markdown",
   "id": "8e523488",
   "metadata": {
    "papermill": {
     "duration": 0.007792,
     "end_time": "2024-01-04T03:08:45.751570",
     "exception": false,
     "start_time": "2024-01-04T03:08:45.743778",
     "status": "completed"
    },
    "tags": []
   },
   "source": [
    "The dataset timezone is in US Eastern Time"
   ]
  },
  {
   "cell_type": "markdown",
   "id": "32ff4e85",
   "metadata": {
    "papermill": {
     "duration": 0.008206,
     "end_time": "2024-01-04T03:08:45.768002",
     "exception": false,
     "start_time": "2024-01-04T03:08:45.759796",
     "status": "completed"
    },
    "tags": []
   },
   "source": [
    "Based on the above analysis, 15:00 hrs had the highest number of average comments per post (28.68), followed by 13:00 hrs (16.32), 12:00 hrs (12.38), 02:00 hrs (11.14) and 10:00 hrs (10.68).\n",
    "\n",
    "Therefore, to have a higher chance of receiving comments for post created, it is advisable to create a post at either 15:00 hrs (or 04:00 hrs SGT) or 13:00 hrs (or 02:00hrs SGT)"
   ]
  }
 ],
 "metadata": {
  "kaggle": {
   "accelerator": "none",
   "dataSources": [
    {
     "datasetId": 197,
     "sourceId": 419,
     "sourceType": "datasetVersion"
    }
   ],
   "dockerImageVersionId": 30626,
   "isGpuEnabled": false,
   "isInternetEnabled": true,
   "language": "python",
   "sourceType": "notebook"
  },
  "kernelspec": {
   "display_name": "Python 3",
   "language": "python",
   "name": "python3"
  },
  "language_info": {
   "codemirror_mode": {
    "name": "ipython",
    "version": 3
   },
   "file_extension": ".py",
   "mimetype": "text/x-python",
   "name": "python",
   "nbconvert_exporter": "python",
   "pygments_lexer": "ipython3",
   "version": "3.10.12"
  },
  "papermill": {
   "default_parameters": {},
   "duration": 6.514978,
   "end_time": "2024-01-04T03:08:46.397483",
   "environment_variables": {},
   "exception": null,
   "input_path": "__notebook__.ipynb",
   "output_path": "__notebook__.ipynb",
   "parameters": {},
   "start_time": "2024-01-04T03:08:39.882505",
   "version": "2.4.0"
  }
 },
 "nbformat": 4,
 "nbformat_minor": 5
}
